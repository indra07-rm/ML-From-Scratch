{
  "nbformat": 4,
  "nbformat_minor": 0,
  "metadata": {
    "colab": {
      "provenance": [],
      "toc_visible": true,
      "authorship_tag": "ABX9TyP22vXQTD60Yjxz2nvZS0mC",
      "include_colab_link": true
    },
    "kernelspec": {
      "name": "python3",
      "display_name": "Python 3"
    },
    "language_info": {
      "name": "python"
    }
  },
  "cells": [
    {
      "cell_type": "markdown",
      "metadata": {
        "id": "view-in-github",
        "colab_type": "text"
      },
      "source": [
        "<a href=\"https://colab.research.google.com/github/indra07-rm/ML-From-Scratch/blob/main/numpy.ipynb\" target=\"_parent\"><img src=\"https://colab.research.google.com/assets/colab-badge.svg\" alt=\"Open In Colab\"/></a>"
      ]
    },
    {
      "cell_type": "code",
      "execution_count": null,
      "metadata": {
        "id": "Ppij66mrSdCY"
      },
      "outputs": [],
      "source": []
    },
    {
      "cell_type": "markdown",
      "source": [
        "#Introduction to numpy\n",
        "\n",
        "what will be cover?\n",
        "\n",
        "- creating arrays\n",
        "- multi dimensional array\n",
        "- randomly generated arrays\n",
        "- element wise operations\n",
        "\n",
        " - comaprison operation\n",
        " - logical operations\n",
        "- summarizing operations\n"
      ],
      "metadata": {
        "id": "GfoAfeORX6xo"
      }
    },
    {
      "cell_type": "markdown",
      "source": [
        "#single dimesional array#\n"
      ],
      "metadata": {
        "id": "0hA_DJz8ZLrc"
      }
    },
    {
      "cell_type": "code",
      "source": [
        "import numpy as np"
      ],
      "metadata": {
        "id": "3qUrW8X9cOxy"
      },
      "execution_count": null,
      "outputs": []
    },
    {
      "cell_type": "markdown",
      "source": [
        "##Creating Array##"
      ],
      "metadata": {
        "id": "FRzBac13iOs1"
      }
    },
    {
      "cell_type": "code",
      "source": [
        "var=np.zeros(5)\n",
        "print(type(var))"
      ],
      "metadata": {
        "colab": {
          "base_uri": "https://localhost:8080/"
        },
        "id": "Bl9v_FHtiYqm",
        "outputId": "954dd5ea-89fe-4c5c-dddf-b985b25717f1"
      },
      "execution_count": null,
      "outputs": [
        {
          "output_type": "stream",
          "name": "stdout",
          "text": [
            "<class 'numpy.ndarray'>\n"
          ]
        }
      ]
    },
    {
      "cell_type": "code",
      "source": [
        "np.zeros(10)"
      ],
      "metadata": {
        "colab": {
          "base_uri": "https://localhost:8080/"
        },
        "id": "gz5gi3zDisZv",
        "outputId": "ff75fe8f-587f-47f7-bba9-91f100f6902e"
      },
      "execution_count": null,
      "outputs": [
        {
          "output_type": "execute_result",
          "data": {
            "text/plain": [
              "array([0., 0., 0., 0., 0., 0., 0., 0., 0., 0.])"
            ]
          },
          "metadata": {},
          "execution_count": 9
        }
      ]
    },
    {
      "cell_type": "code",
      "source": [
        "np.ones(10)"
      ],
      "metadata": {
        "colab": {
          "base_uri": "https://localhost:8080/"
        },
        "id": "SYI5-Re1i6XT",
        "outputId": "678453f4-be43-4a26-caf2-3b985081bed9"
      },
      "execution_count": null,
      "outputs": [
        {
          "output_type": "execute_result",
          "data": {
            "text/plain": [
              "array([1., 1., 1., 1., 1., 1., 1., 1., 1., 1.])"
            ]
          },
          "metadata": {},
          "execution_count": 10
        }
      ]
    },
    {
      "cell_type": "code",
      "source": [
        "np.full(10,3)"
      ],
      "metadata": {
        "colab": {
          "base_uri": "https://localhost:8080/"
        },
        "id": "qSSZvkobjax_",
        "outputId": "90a8b876-f3bd-44d5-8b3e-87bad39a3994"
      },
      "execution_count": null,
      "outputs": [
        {
          "output_type": "execute_result",
          "data": {
            "text/plain": [
              "array([3, 3, 3, 3, 3, 3, 3, 3, 3, 3])"
            ]
          },
          "metadata": {},
          "execution_count": 11
        }
      ]
    },
    {
      "cell_type": "markdown",
      "source": [
        "##Defining our own array##"
      ],
      "metadata": {
        "id": "CrMzbc8moT8t"
      }
    },
    {
      "cell_type": "code",
      "source": [
        "var = np.array([1, 2, 3, 4])"
      ],
      "metadata": {
        "id": "OsRr4-ZwobME"
      },
      "execution_count": null,
      "outputs": []
    },
    {
      "cell_type": "code",
      "source": [
        "var[2] = 5\n",
        "var[-1] = 6\n",
        "print(var)"
      ],
      "metadata": {
        "colab": {
          "base_uri": "https://localhost:8080/"
        },
        "id": "ITF5pxldo0_1",
        "outputId": "5aecd9cc-e549-42ac-ab84-d2ef6b1016a0"
      },
      "execution_count": null,
      "outputs": [
        {
          "output_type": "stream",
          "name": "stdout",
          "text": [
            "[1 2 5 6]\n",
            "[1 2 5 6]\n"
          ]
        }
      ]
    },
    {
      "cell_type": "markdown",
      "source": [],
      "metadata": {
        "id": "MgG-mpD_pQNw"
      }
    },
    {
      "cell_type": "markdown",
      "source": [
        "##Range of number in numpy##"
      ],
      "metadata": {
        "id": "vDNU-4a_tsV0"
      }
    },
    {
      "cell_type": "code",
      "source": [
        "np.arange(3,10)"
      ],
      "metadata": {
        "colab": {
          "base_uri": "https://localhost:8080/"
        },
        "id": "ZgFdRaTTpElk",
        "outputId": "d220c48b-9e18-4c44-de3a-c84ff4c5c121"
      },
      "execution_count": null,
      "outputs": [
        {
          "output_type": "execute_result",
          "data": {
            "text/plain": [
              "array([3, 4, 5, 6, 7, 8, 9])"
            ]
          },
          "metadata": {},
          "execution_count": 16
        }
      ]
    },
    {
      "cell_type": "markdown",
      "source": [
        "##Create array with evenly spaced number within a specific range##"
      ],
      "metadata": {
        "id": "064DDmxWuSem"
      }
    },
    {
      "cell_type": "code",
      "source": [
        "np.linspace(0, 100, 11)"
      ],
      "metadata": {
        "colab": {
          "base_uri": "https://localhost:8080/"
        },
        "id": "1-2Y1EohuaiC",
        "outputId": "90844bcb-81b2-49c3-9ed0-00072946d577"
      },
      "execution_count": null,
      "outputs": [
        {
          "output_type": "execute_result",
          "data": {
            "text/plain": [
              "array([  0.,  10.,  20.,  30.,  40.,  50.,  60.,  70.,  80.,  90., 100.])"
            ]
          },
          "metadata": {},
          "execution_count": 17
        }
      ]
    },
    {
      "cell_type": "markdown",
      "source": [
        "# Multi dimensional arrays"
      ],
      "metadata": {
        "id": "ugUzUvfzvlBM"
      }
    },
    {
      "cell_type": "code",
      "source": [
        "np.zeros((5, 2)) #5 row 2 column"
      ],
      "metadata": {
        "colab": {
          "base_uri": "https://localhost:8080/"
        },
        "id": "R4zRdPB8wfev",
        "outputId": "cb872251-42e9-45b1-9370-77e6a983f8e7"
      },
      "execution_count": null,
      "outputs": [
        {
          "output_type": "execute_result",
          "data": {
            "text/plain": [
              "array([[0., 0.],\n",
              "       [0., 0.],\n",
              "       [0., 0.],\n",
              "       [0., 0.],\n",
              "       [0., 0.]])"
            ]
          },
          "metadata": {},
          "execution_count": 19
        }
      ]
    },
    {
      "cell_type": "markdown",
      "source": [],
      "metadata": {
        "id": "vgHBVHXupO5h"
      }
    },
    {
      "cell_type": "code",
      "source": [
        "#create a mud unit array of size\n",
        "np.ones((5,2))"
      ],
      "metadata": {
        "colab": {
          "base_uri": "https://localhost:8080/"
        },
        "id": "aa28_ez1yKP5",
        "outputId": "ff9dd12f-ebfa-4de0-94eb-7d6b4e6ebdb1"
      },
      "execution_count": null,
      "outputs": [
        {
          "output_type": "execute_result",
          "data": {
            "text/plain": [
              "array([[1., 1.],\n",
              "       [1., 1.],\n",
              "       [1., 1.],\n",
              "       [1., 1.],\n",
              "       [1., 1.]])"
            ]
          },
          "metadata": {},
          "execution_count": 21
        }
      ]
    },
    {
      "cell_type": "code",
      "source": [
        "#create a random array of size(3, 5) with elements using random integer\n",
        "\n",
        "np.array(np.random.randint(5, size=(3,5)))\n",
        "\n",
        "#create a random array of size(3,5) with elements using number of your choice\n",
        "\n",
        "updatingA = np.array([[1, 2, 3, 4, 5],\n",
        "                      [6, 7, 8, 9, 10],\n",
        "                      [2, 3, 6, 5, 8]])\n",
        "print(updatingA)"
      ],
      "metadata": {
        "colab": {
          "base_uri": "https://localhost:8080/"
        },
        "id": "EUQaJNBhyVJp",
        "outputId": "2b88bf3a-e481-4dd0-e5ca-374114b2dcb2"
      },
      "execution_count": null,
      "outputs": [
        {
          "output_type": "stream",
          "name": "stdout",
          "text": [
            "[[ 1  2  3  4  5]\n",
            " [ 6  7  8  9 10]\n",
            " [ 2  3  6  5  8]]\n"
          ]
        }
      ]
    },
    {
      "cell_type": "code",
      "source": [
        "# update the element of an array with index\n",
        "updatingA[1,2] = 88\n",
        "print(updatingA)"
      ],
      "metadata": {
        "colab": {
          "base_uri": "https://localhost:8080/"
        },
        "id": "IvazCjcIywWJ",
        "outputId": "0284f0d1-e05d-4bfc-d6ce-15583f23c838"
      },
      "execution_count": null,
      "outputs": [
        {
          "output_type": "stream",
          "name": "stdout",
          "text": [
            "[[ 1  2  3  4  5]\n",
            " [ 6  7 88  9 10]\n",
            " [ 2  3  6  5  8]]\n"
          ]
        }
      ]
    },
    {
      "cell_type": "code",
      "source": [
        "updatingA[2] = 1\n",
        "updatingA[: , 2] = [2, 3, 5]\n",
        "print(updatingA)"
      ],
      "metadata": {
        "colab": {
          "base_uri": "https://localhost:8080/"
        },
        "id": "T5p7B8TgBUhn",
        "outputId": "59546257-3c69-419c-a897-c42a19e05c3b"
      },
      "execution_count": null,
      "outputs": [
        {
          "output_type": "stream",
          "name": "stdout",
          "text": [
            "[[ 1  2  2  4  5]\n",
            " [ 6  7  3  9 10]\n",
            " [ 1  1  5  1  1]]\n"
          ]
        }
      ]
    },
    {
      "cell_type": "markdown",
      "source": [
        "#Randomly generated arrays\n",
        "- Numpy can createe arrays filled with random number\n",
        "- To ensure the reproducibility you can use seed can be use to control the randomness that is np. random.seed()\n",
        "- Everytime you can run the code with  np.random.seed(2), it will generate the exact same random numbers\n",
        "\n",
        "#note\n",
        "if you remove or changes the seed valuess, the sequence of random numbers will be changed.\n"
      ],
      "metadata": {
        "id": "QpXqsjSfCcSB"
      }
    },
    {
      "cell_type": "code",
      "source": [
        "np.random.rand(3)"
      ],
      "metadata": {
        "colab": {
          "base_uri": "https://localhost:8080/"
        },
        "id": "8k1v42EoBw81",
        "outputId": "e9e34db3-b14d-4328-ba5d-17ce7bd626bd"
      },
      "execution_count": null,
      "outputs": [
        {
          "output_type": "execute_result",
          "data": {
            "text/plain": [
              "array([0.84740482, 0.67558687, 0.7126348 ])"
            ]
          },
          "metadata": {},
          "execution_count": 37
        }
      ]
    },
    {
      "cell_type": "code",
      "source": [
        "np.random.seed(3)\n",
        "np.random.rand(5)\n"
      ],
      "metadata": {
        "colab": {
          "base_uri": "https://localhost:8080/"
        },
        "id": "QzfDA6k8DuW0",
        "outputId": "1919d1ef-8bdd-4aab-d34e-98ad8b9de194"
      },
      "execution_count": null,
      "outputs": [
        {
          "output_type": "execute_result",
          "data": {
            "text/plain": [
              "array([0.5507979 , 0.70814782, 0.29090474, 0.51082761, 0.89294695])"
            ]
          },
          "metadata": {},
          "execution_count": 43
        }
      ]
    },
    {
      "cell_type": "code",
      "source": [
        "np.random.seed(5)\n",
        "np.random.rand(5,2)"
      ],
      "metadata": {
        "colab": {
          "base_uri": "https://localhost:8080/"
        },
        "id": "PalyGc69D5Uf",
        "outputId": "dfbe7790-b074-4d6c-a0f9-c6992d9fab38"
      },
      "execution_count": null,
      "outputs": [
        {
          "output_type": "execute_result",
          "data": {
            "text/plain": [
              "array([[0.22199317, 0.87073231],\n",
              "       [0.20671916, 0.91861091],\n",
              "       [0.48841119, 0.61174386],\n",
              "       [0.76590786, 0.51841799],\n",
              "       [0.2968005 , 0.18772123]])"
            ]
          },
          "metadata": {},
          "execution_count": 55
        }
      ]
    },
    {
      "cell_type": "code",
      "source": [
        "np.random.seed(2)\n",
        "np.random.randint(1, 100, 5)"
      ],
      "metadata": {
        "colab": {
          "base_uri": "https://localhost:8080/"
        },
        "id": "rtxP59h7EnMN",
        "outputId": "b4e23d73-943a-44c3-ea36-613fb86cb0f8"
      },
      "execution_count": null,
      "outputs": [
        {
          "output_type": "execute_result",
          "data": {
            "text/plain": [
              "array([41, 16, 73, 23, 44])"
            ]
          },
          "metadata": {},
          "execution_count": 51
        }
      ]
    },
    {
      "cell_type": "code",
      "source": [
        "np.random.randn(5,2) #normally distributed"
      ],
      "metadata": {
        "colab": {
          "base_uri": "https://localhost:8080/"
        },
        "id": "QrwBGZeNEzVG",
        "outputId": "1e25d315-07a8-43f1-f051-d95befb99909"
      },
      "execution_count": null,
      "outputs": [
        {
          "output_type": "execute_result",
          "data": {
            "text/plain": [
              "array([[ 0.18760323, -0.32986996],\n",
              "       [-1.19276461, -0.20487651],\n",
              "       [-0.35882895,  0.6034716 ],\n",
              "       [-1.66478853, -0.70017904],\n",
              "       [ 1.15139101,  1.85733101]])"
            ]
          },
          "metadata": {},
          "execution_count": 57
        }
      ]
    },
    {
      "cell_type": "code",
      "source": [
        "#define the numpy array\n",
        "arr = np.array([[ 0.18760323, -0.32986996],\n",
        "                [-1.19276461, -0.20487651],\n",
        "                [-0.35882895,  0.6034716 ],\n",
        "                [-1.66478853, -0.70017904],\n",
        "                [ 1.15139101,  1.85733101]])\n",
        "\n",
        "#calculate mean\n",
        "mean_all = np.mean(arr) # Mean of all elements\n",
        "mean_row = np.mean(arr,axis=1) # Mean of each row\n",
        "mean_col = np.mean(arr, axis=0) #Mean of each column\n",
        "\n",
        "# calculate standrad deviation\n",
        "std_all = np.std(arr) # standard deviation of all elements\n",
        "std_row = np.std(arr, axis=1) # standard deviation of each row\n",
        "std_col = np.std(arr, axis=0) # standard deviation of each column\n",
        "\n",
        "#print results\n",
        "print(\"Mean of all elements:\", mean_all)\n",
        "print(\"Mean of each row:\", mean_row)\n",
        "print(\"Mean of each column:\", mean_col)\n",
        "print(\"Standard deviation of all elements:\", std_all)\n",
        "print(\"Standard deviation of each row:\", std_row)\n",
        "print(\"Standard deviation of each column:\", std_col)\n"
      ],
      "metadata": {
        "colab": {
          "base_uri": "https://localhost:8080/"
        },
        "id": "Nmjdaux_FhiF",
        "outputId": "e89fd193-ea76-47cb-bdc8-064ba5b4c5b2"
      },
      "execution_count": null,
      "outputs": [
        {
          "output_type": "stream",
          "name": "stdout",
          "text": [
            "Mean of all elements: -0.06515107500000002\n",
            "Mean of each row: [-0.07113337 -0.69882056  0.12232133 -1.18248379  1.50436101]\n",
            "Mean of each column: [-0.37547757  0.24517542]\n",
            "Standard deviation of all elements: 1.004804050526992\n",
            "Standard deviation of each row: [0.2587366  0.49394405 0.48115027 0.48230475 0.35297   ]\n",
            "Standard deviation of each column: [0.99789235 0.9115197 ]\n"
          ]
        }
      ]
    },
    {
      "cell_type": "code",
      "source": [
        "np.random.seed(42)\n",
        "np.random.randint(low = 0, high = 100, size = [5, 2])"
      ],
      "metadata": {
        "colab": {
          "base_uri": "https://localhost:8080/"
        },
        "id": "GjERj-ZzGpwN",
        "outputId": "86b56bf9-516b-411a-a05b-87b4cbeb58eb"
      },
      "execution_count": null,
      "outputs": [
        {
          "output_type": "execute_result",
          "data": {
            "text/plain": [
              "array([[51, 92],\n",
              "       [14, 71],\n",
              "       [60, 20],\n",
              "       [82, 86],\n",
              "       [74, 74]])"
            ]
          },
          "metadata": {},
          "execution_count": 59
        }
      ]
    },
    {
      "cell_type": "markdown",
      "source": [
        "#Element wise operations"
      ],
      "metadata": {
        "id": "zxcMCi0kIKra"
      }
    },
    {
      "cell_type": "code",
      "source": [
        "a = np.arange(5)\n",
        "a"
      ],
      "metadata": {
        "colab": {
          "base_uri": "https://localhost:8080/"
        },
        "id": "hzfHMyA6IQZv",
        "outputId": "d75be4f9-319d-4faa-8333-bdb61fcb4c3a"
      },
      "execution_count": null,
      "outputs": [
        {
          "output_type": "execute_result",
          "data": {
            "text/plain": [
              "array([0, 1, 2, 3, 4])"
            ]
          },
          "metadata": {},
          "execution_count": 60
        }
      ]
    },
    {
      "cell_type": "code",
      "source": [
        "b = (10 + (a*2))\n",
        "b"
      ],
      "metadata": {
        "colab": {
          "base_uri": "https://localhost:8080/"
        },
        "id": "K004KdZaIWo6",
        "outputId": "8cb79ecd-f5cc-45ab-c8df-75a38be7d131"
      },
      "execution_count": null,
      "outputs": [
        {
          "output_type": "execute_result",
          "data": {
            "text/plain": [
              "array([10, 12, 14, 16, 18])"
            ]
          },
          "metadata": {},
          "execution_count": 62
        }
      ]
    },
    {
      "cell_type": "code",
      "source": [
        "# comparision operations\n",
        "# you can perform element wise comprasion and create bolean array\n",
        "a >= 2"
      ],
      "metadata": {
        "colab": {
          "base_uri": "https://localhost:8080/"
        },
        "id": "BWTy-rY6Icrb",
        "outputId": "4c8d6e84-6d7c-45f3-a373-86262c7b5c8b"
      },
      "execution_count": null,
      "outputs": [
        {
          "output_type": "execute_result",
          "data": {
            "text/plain": [
              "array([False, False,  True,  True,  True])"
            ]
          },
          "metadata": {},
          "execution_count": 63
        }
      ]
    },
    {
      "cell_type": "code",
      "source": [
        "a > b"
      ],
      "metadata": {
        "colab": {
          "base_uri": "https://localhost:8080/"
        },
        "id": "RtOx0r45Iyd9",
        "outputId": "0fed1c40-3423-41d2-b670-7544592a5b09"
      },
      "execution_count": null,
      "outputs": [
        {
          "output_type": "execute_result",
          "data": {
            "text/plain": [
              "array([False, False, False, False, False])"
            ]
          },
          "metadata": {},
          "execution_count": 64
        }
      ]
    },
    {
      "cell_type": "code",
      "source": [
        "a[4] > b[0]"
      ],
      "metadata": {
        "colab": {
          "base_uri": "https://localhost:8080/"
        },
        "id": "h1MGwsSgI6tU",
        "outputId": "b8a95f9c-da2b-4e66-d6db-9d68d277aee3"
      },
      "execution_count": null,
      "outputs": [
        {
          "output_type": "execute_result",
          "data": {
            "text/plain": [
              "False"
            ]
          },
          "metadata": {},
          "execution_count": 65
        }
      ]
    },
    {
      "cell_type": "code",
      "source": [
        "#summarizing\n",
        "#numpy provides functions for summarizied array of data\n",
        "a"
      ],
      "metadata": {
        "colab": {
          "base_uri": "https://localhost:8080/"
        },
        "id": "yZDzwg0vJBaG",
        "outputId": "a6e05f16-051d-4575-9a96-7c49edd1f1e9"
      },
      "execution_count": null,
      "outputs": [
        {
          "output_type": "execute_result",
          "data": {
            "text/plain": [
              "array([0, 1, 2, 3, 4])"
            ]
          },
          "metadata": {},
          "execution_count": 66
        }
      ]
    },
    {
      "cell_type": "code",
      "source": [
        "#standard deviation\n",
        "a.std()\n"
      ],
      "metadata": {
        "colab": {
          "base_uri": "https://localhost:8080/"
        },
        "id": "SjNFdIBiJLgp",
        "outputId": "f2da0dd0-8ac7-4fcf-ce5e-3f489a585ae3"
      },
      "execution_count": null,
      "outputs": [
        {
          "output_type": "execute_result",
          "data": {
            "text/plain": [
              "1.4142135623730951"
            ]
          },
          "metadata": {},
          "execution_count": 67
        }
      ]
    },
    {
      "cell_type": "code",
      "source": [
        "#min value of an array\n",
        "a.min()\n"
      ],
      "metadata": {
        "colab": {
          "base_uri": "https://localhost:8080/"
        },
        "id": "OzDiFm5CJYrV",
        "outputId": "85f422cd-d50c-4460-a9bf-c42203481d51"
      },
      "execution_count": null,
      "outputs": [
        {
          "output_type": "execute_result",
          "data": {
            "text/plain": [
              "0"
            ]
          },
          "metadata": {},
          "execution_count": 68
        }
      ]
    },
    {
      "cell_type": "code",
      "source": [
        "#max value of an array\n",
        "a.max()"
      ],
      "metadata": {
        "colab": {
          "base_uri": "https://localhost:8080/"
        },
        "id": "aPm-ugRSJdsn",
        "outputId": "ed945b16-8cf5-42c7-a330-cf80cffbd167"
      },
      "execution_count": null,
      "outputs": [
        {
          "output_type": "execute_result",
          "data": {
            "text/plain": [
              "4"
            ]
          },
          "metadata": {},
          "execution_count": 69
        }
      ]
    },
    {
      "cell_type": "code",
      "source": [
        "#sum of elements of an array\n",
        "a.sum()\n"
      ],
      "metadata": {
        "colab": {
          "base_uri": "https://localhost:8080/"
        },
        "id": "eTRJr6duJhxX",
        "outputId": "49d45fe3-02a4-4b99-ca82-bd2e43c3a894"
      },
      "execution_count": null,
      "outputs": [
        {
          "output_type": "execute_result",
          "data": {
            "text/plain": [
              "10"
            ]
          },
          "metadata": {},
          "execution_count": 70
        }
      ]
    },
    {
      "cell_type": "code",
      "source": [
        "#mean of array\n",
        "a.mean()"
      ],
      "metadata": {
        "colab": {
          "base_uri": "https://localhost:8080/"
        },
        "id": "IBLOj5bgJnHv",
        "outputId": "9606b420-9155-4caf-892c-177d57915e2c"
      },
      "execution_count": null,
      "outputs": [
        {
          "output_type": "execute_result",
          "data": {
            "text/plain": [
              "2.0"
            ]
          },
          "metadata": {},
          "execution_count": 71
        }
      ]
    },
    {
      "cell_type": "code",
      "source": [],
      "metadata": {
        "id": "4uh9i1z9JrsD"
      },
      "execution_count": null,
      "outputs": []
    }
  ]
}